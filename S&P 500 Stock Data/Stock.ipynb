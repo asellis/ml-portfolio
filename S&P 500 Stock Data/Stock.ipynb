{
 "cells": [
  {
   "cell_type": "markdown",
   "id": "3c8a15b2",
   "metadata": {},
   "source": [
    "# Overview"
   ]
  },
  {
   "cell_type": "markdown",
   "id": "08a325b7",
   "metadata": {},
   "source": [
    "This notebook aims to predict the return of S&P 500 stocks using an LSTM neural network. It downloads historical stock data from Yahoo Finance, preprocesses the data, creates a custom dataset, trains an LSTM model, and evaluates its performance using a validation set."
   ]
  },
  {
   "cell_type": "markdown",
   "id": "128258b6",
   "metadata": {},
   "source": [
    "# Imports"
   ]
  },
  {
   "cell_type": "code",
   "execution_count": null,
   "id": "ac024564",
   "metadata": {},
   "outputs": [],
   "source": [
    "import yfinance as yf\n",
    "import pandas as pd\n",
    "import matplotlib.pyplot as plt\n",
    "\n",
    "import torch\n",
    "import torch.nn as nn\n",
    "from torch.utils.data import Dataset, DataLoader, random_split\n",
    "\n",
    "import os\n",
    "import random\n",
    "import numpy as np"
   ]
  },
  {
   "cell_type": "code",
   "execution_count": 2,
   "id": "528aaa65",
   "metadata": {},
   "outputs": [],
   "source": [
    "# Set a seed so that results can be reproduced\n",
    "def set_seed(seed=42):\n",
    "    random.seed(seed)\n",
    "    np.random.seed(seed)\n",
    "    torch.manual_seed(seed)               # PyTorch CPU\n",
    "    torch.cuda.manual_seed(seed)          # PyTorch GPU\n",
    "    torch.backends.cudnn.deterministic = True\n",
    "    torch.backends.cudnn.benchmark = False\n",
    "\n",
    "set_seed()"
   ]
  },
  {
   "cell_type": "markdown",
   "id": "2a8101ca",
   "metadata": {},
   "source": [
    "# Data"
   ]
  },
  {
   "cell_type": "code",
   "execution_count": 3,
   "id": "6a917dd4",
   "metadata": {},
   "outputs": [
    {
     "data": {
      "text/html": [
       "<div>\n",
       "<style scoped>\n",
       "    .dataframe tbody tr th:only-of-type {\n",
       "        vertical-align: middle;\n",
       "    }\n",
       "\n",
       "    .dataframe tbody tr th {\n",
       "        vertical-align: top;\n",
       "    }\n",
       "\n",
       "    .dataframe thead th {\n",
       "        text-align: right;\n",
       "    }\n",
       "</style>\n",
       "<table border=\"1\" class=\"dataframe\">\n",
       "  <thead>\n",
       "    <tr style=\"text-align: right;\">\n",
       "      <th></th>\n",
       "      <th>Symbol</th>\n",
       "      <th>Security</th>\n",
       "      <th>GICS Sector</th>\n",
       "      <th>GICS Sub-Industry</th>\n",
       "      <th>Headquarters Location</th>\n",
       "      <th>Date added</th>\n",
       "      <th>CIK</th>\n",
       "      <th>Founded</th>\n",
       "    </tr>\n",
       "  </thead>\n",
       "  <tbody>\n",
       "    <tr>\n",
       "      <th>0</th>\n",
       "      <td>MMM</td>\n",
       "      <td>3M</td>\n",
       "      <td>Industrials</td>\n",
       "      <td>Industrial Conglomerates</td>\n",
       "      <td>Saint Paul, Minnesota</td>\n",
       "      <td>1957-03-04</td>\n",
       "      <td>66740</td>\n",
       "      <td>1902</td>\n",
       "    </tr>\n",
       "    <tr>\n",
       "      <th>1</th>\n",
       "      <td>AOS</td>\n",
       "      <td>A. O. Smith</td>\n",
       "      <td>Industrials</td>\n",
       "      <td>Building Products</td>\n",
       "      <td>Milwaukee, Wisconsin</td>\n",
       "      <td>2017-07-26</td>\n",
       "      <td>91142</td>\n",
       "      <td>1916</td>\n",
       "    </tr>\n",
       "    <tr>\n",
       "      <th>2</th>\n",
       "      <td>ABT</td>\n",
       "      <td>Abbott Laboratories</td>\n",
       "      <td>Health Care</td>\n",
       "      <td>Health Care Equipment</td>\n",
       "      <td>North Chicago, Illinois</td>\n",
       "      <td>1957-03-04</td>\n",
       "      <td>1800</td>\n",
       "      <td>1888</td>\n",
       "    </tr>\n",
       "    <tr>\n",
       "      <th>3</th>\n",
       "      <td>ABBV</td>\n",
       "      <td>AbbVie</td>\n",
       "      <td>Health Care</td>\n",
       "      <td>Biotechnology</td>\n",
       "      <td>North Chicago, Illinois</td>\n",
       "      <td>2012-12-31</td>\n",
       "      <td>1551152</td>\n",
       "      <td>2013 (1888)</td>\n",
       "    </tr>\n",
       "    <tr>\n",
       "      <th>4</th>\n",
       "      <td>ACN</td>\n",
       "      <td>Accenture</td>\n",
       "      <td>Information Technology</td>\n",
       "      <td>IT Consulting &amp; Other Services</td>\n",
       "      <td>Dublin, Ireland</td>\n",
       "      <td>2011-07-06</td>\n",
       "      <td>1467373</td>\n",
       "      <td>1989</td>\n",
       "    </tr>\n",
       "  </tbody>\n",
       "</table>\n",
       "</div>"
      ],
      "text/plain": [
       "  Symbol             Security             GICS Sector  \\\n",
       "0    MMM                   3M             Industrials   \n",
       "1    AOS          A. O. Smith             Industrials   \n",
       "2    ABT  Abbott Laboratories             Health Care   \n",
       "3   ABBV               AbbVie             Health Care   \n",
       "4    ACN            Accenture  Information Technology   \n",
       "\n",
       "                GICS Sub-Industry    Headquarters Location  Date added  \\\n",
       "0        Industrial Conglomerates    Saint Paul, Minnesota  1957-03-04   \n",
       "1               Building Products     Milwaukee, Wisconsin  2017-07-26   \n",
       "2           Health Care Equipment  North Chicago, Illinois  1957-03-04   \n",
       "3                   Biotechnology  North Chicago, Illinois  2012-12-31   \n",
       "4  IT Consulting & Other Services          Dublin, Ireland  2011-07-06   \n",
       "\n",
       "       CIK      Founded  \n",
       "0    66740         1902  \n",
       "1    91142         1916  \n",
       "2     1800         1888  \n",
       "3  1551152  2013 (1888)  \n",
       "4  1467373         1989  "
      ]
     },
     "execution_count": 3,
     "metadata": {},
     "output_type": "execute_result"
    }
   ],
   "source": [
    "# We are going to use the top 500 companies to extract data from Yahoo finance.\n",
    "# https://datahub.io/core/s-and-p-500-companies\n",
    "stock_names = pd.read_csv(\"constituents.csv\")\n",
    "stock_names.head()"
   ]
  },
  {
   "cell_type": "code",
   "execution_count": 4,
   "id": "186a61dc",
   "metadata": {},
   "outputs": [],
   "source": [
    "start_date = \"2010-01-01\"\n",
    "end_date = \"2024-12-31\""
   ]
  },
  {
   "cell_type": "code",
   "execution_count": 5,
   "id": "d5f1924b",
   "metadata": {},
   "outputs": [],
   "source": [
    "data = {}\n",
    "\n",
    "for symbol in stock_names[\"Symbol\"]:\n",
    "    path = f\"data/{symbol}.csv\"\n",
    "    if os.path.exists(path):\n",
    "        data[symbol] = pd.read_csv(path, index_col='Date', parse_dates=True)\n",
    "\n",
    "for symbol in stock_names[\"Symbol\"]:\n",
    "    if symbol in data:\n",
    "        continue\n",
    "    df = yf.download(symbol, start=start_date, end=end_date, multi_level_index=False)\n",
    "\n",
    "    path = f\"data/{symbol}.csv\"\n",
    "    if not os.path.exists(path):\n",
    "        df.to_csv(path)\n",
    "        \n",
    "    data[symbol] = df"
   ]
  },
  {
   "cell_type": "code",
   "execution_count": 6,
   "id": "a35e6cf4",
   "metadata": {},
   "outputs": [],
   "source": [
    "class StockDataset(Dataset):\n",
    "    \"\"\"\n",
    "    Custom data for stock data.  Used to predict the return for \"future_prediction\" days in the future.\n",
    "    \"\"\"\n",
    "    def __init__(self, stock_dict, window_size=30, future_prediction=7):\n",
    "        self.X = []\n",
    "        self.Y = []\n",
    "        self.window_size = window_size\n",
    "        \n",
    "        for symbol, df in stock_dict.items():\n",
    "            df = df.dropna()\n",
    "            df['Return'] = df['Close'].pct_change(future_prediction).shift(-1 * future_prediction)\n",
    "            df = df.dropna()\n",
    "            \n",
    "            features = df[['Open', 'High', 'Low', 'Close', 'Volume']].values\n",
    "            targets = df['Return'].values\n",
    "            \n",
    "            for i in range(len(df) - window_size - future_prediction):\n",
    "                x = features[i:i+window_size]\n",
    "                y = targets[i+window_size - 1 + future_prediction]\n",
    "                self.X.append(torch.tensor(x, dtype=torch.float32))\n",
    "                self.Y.append(torch.tensor(y, dtype=torch.float32))\n",
    "                \n",
    "    def __len__(self):\n",
    "        return len(self.X)\n",
    "    \n",
    "    def __getitem__(self, idx):\n",
    "        return (self.X[idx], self.Y[idx])"
   ]
  },
  {
   "cell_type": "markdown",
   "id": "7b042e45",
   "metadata": {},
   "source": [
    "# Model"
   ]
  },
  {
   "cell_type": "code",
   "execution_count": 7,
   "id": "a580f749",
   "metadata": {},
   "outputs": [],
   "source": [
    "class StockLSTM(nn.Module):\n",
    "    def __init__(self, input_size=5, hidden_size=64, num_layers=2, dropout=0.2):\n",
    "        super(StockLSTM, self).__init__()\n",
    "        self.lstm = nn.LSTM(input_size, hidden_size, num_layers, batch_first=True, dropout=dropout)\n",
    "        self.fc = nn.Linear(hidden_size, 1)\n",
    "\n",
    "    def forward(self, x):\n",
    "        out, _ = self.lstm(x)\n",
    "        out = out[:, -1, :]  # Take the last time step\n",
    "        out = self.fc(out)\n",
    "        return out.squeeze()"
   ]
  },
  {
   "cell_type": "markdown",
   "id": "578886f2",
   "metadata": {},
   "source": [
    "# Train"
   ]
  },
  {
   "cell_type": "code",
   "execution_count": 8,
   "id": "c77ecb4a",
   "metadata": {},
   "outputs": [],
   "source": [
    "device = torch.device(\"cuda\" if torch.cuda.is_available() else \"cpu\")"
   ]
  },
  {
   "cell_type": "code",
   "execution_count": 9,
   "id": "ea056a7b",
   "metadata": {},
   "outputs": [],
   "source": [
    "# Parameters\n",
    "batch_size = 32\n",
    "window_size = 30\n",
    "epochs = 5\n",
    "\n",
    "# Model Parameters\n",
    "lstm_layers = 2\n",
    "lstm_hidden_size = 64\n",
    "dropout = 0.2"
   ]
  },
  {
   "cell_type": "code",
   "execution_count": 10,
   "id": "43e83ec7",
   "metadata": {},
   "outputs": [],
   "source": [
    "dataset = StockDataset(data, window_size=window_size)"
   ]
  },
  {
   "cell_type": "code",
   "execution_count": 11,
   "id": "0d95d2ce",
   "metadata": {},
   "outputs": [],
   "source": [
    "train_pct = 0.8\n",
    "\n",
    "train_size = int(train_pct * len(dataset))\n",
    "valid_size = len(dataset) - train_size\n",
    "\n",
    "# Slice the dataset directly to preserve order\n",
    "train_set = torch.utils.data.Subset(dataset, list(range(train_size)))\n",
    "valid_set = torch.utils.data.Subset(dataset, list(range(train_size, len(dataset))))"
   ]
  },
  {
   "cell_type": "code",
   "execution_count": 12,
   "id": "c834df2b",
   "metadata": {},
   "outputs": [],
   "source": [
    "train_loader = DataLoader(train_set, batch_size=batch_size, shuffle=True)\n",
    "valid_loader = DataLoader(valid_set, batch_size=batch_size)"
   ]
  },
  {
   "cell_type": "code",
   "execution_count": 13,
   "id": "e7d7e56f",
   "metadata": {},
   "outputs": [
    {
     "data": {
      "text/plain": [
       "StockLSTM(\n",
       "  (lstm): LSTM(5, 64, num_layers=2, batch_first=True, dropout=0.2)\n",
       "  (fc): Linear(in_features=64, out_features=1, bias=True)\n",
       ")"
      ]
     },
     "execution_count": 13,
     "metadata": {},
     "output_type": "execute_result"
    }
   ],
   "source": [
    "model = StockLSTM(hidden_size = lstm_hidden_size, num_layers=lstm_layers, dropout=dropout)\n",
    "model.to(device)"
   ]
  },
  {
   "cell_type": "code",
   "execution_count": 14,
   "id": "0ed09ded",
   "metadata": {},
   "outputs": [],
   "source": [
    "criterion = nn.MSELoss()\n",
    "optimizer = torch.optim.Adam(model.parameters(), lr=0.001)"
   ]
  },
  {
   "cell_type": "code",
   "execution_count": 15,
   "id": "0da6168d",
   "metadata": {},
   "outputs": [
    {
     "name": "stdout",
     "output_type": "stream",
     "text": [
      "Epoch 1:\n",
      "\tTrain Loss = 0.0025\n",
      "\tValid Loss = 0.0028\n",
      "Epoch 2:\n",
      "\tTrain Loss = 0.0025\n",
      "\tValid Loss = 0.0028\n",
      "Epoch 3:\n",
      "\tTrain Loss = 0.0025\n",
      "\tValid Loss = 0.0028\n",
      "Epoch 4:\n",
      "\tTrain Loss = 0.0025\n",
      "\tValid Loss = 0.0028\n",
      "Epoch 5:\n",
      "\tTrain Loss = 0.0025\n",
      "\tValid Loss = 0.0028\n"
     ]
    }
   ],
   "source": [
    "train_losses = []\n",
    "valid_losses = []\n",
    "for epoch in range(epochs):\n",
    "    model.train()\n",
    "    train_loss = 0\n",
    "    for x_batch, y_batch in train_loader:\n",
    "        optimizer.zero_grad()\n",
    "        preds = model(x_batch.to(device))\n",
    "        loss = criterion(preds, y_batch.to(device))\n",
    "        loss.backward()\n",
    "        optimizer.step()\n",
    "        train_loss += loss.item()\n",
    "        \n",
    "    train_losses.append(train_loss/len(train_loader))\n",
    "    \n",
    "    model.eval()\n",
    "    valid_loss = 0\n",
    "    with torch.no_grad():\n",
    "        for x_batch, y_batch in valid_loader:\n",
    "            preds = model(x_batch.to(device))\n",
    "            loss = criterion(preds, y_batch.to(device))\n",
    "            valid_loss += loss.item()\n",
    "            \n",
    "        \n",
    "    valid_losses.append(valid_loss/len(valid_loader))\n",
    "    \n",
    "    print(f\"Epoch {epoch + 1}:\\n\\tTrain Loss = {train_losses[-1]:.4f}\\n\\tValid Loss = {valid_losses[-1]:.4f}\")"
   ]
  },
  {
   "cell_type": "code",
   "execution_count": 16,
   "id": "0c35d337",
   "metadata": {},
   "outputs": [
    {
     "data": {
      "image/png": "[encoded data removed]",
      "text/plain": [
       "<Figure size 640x480 with 1 Axes>"
      ]
     },
     "metadata": {},
     "output_type": "display_data"
    }
   ],
   "source": [
    "plt.title(model.__class__.__name__)\n",
    "plt.plot(train_losses, color='blue', label='Training Loss')\n",
    "plt.plot(valid_losses, color='red', label='Validation Loss')\n",
    "plt.xlabel('Epoch')\n",
    "plt.ylabel('Loss')\n",
    "plt.legend()\n",
    "plt.show()"
   ]
  },
  {
   "cell_type": "code",
   "execution_count": null,
   "id": "45a0952b",
   "metadata": {},
   "outputs": [],
   "source": []
  }
 ],
 "metadata": {
  "kernelspec": {
   "display_name": "Python 3",
   "language": "python",
   "name": "python3"
  },
  "language_info": {
   "codemirror_mode": {
    "name": "ipython",
    "version": 3
   },
   "file_extension": ".py",
   "mimetype": "text/x-python",
   "name": "python",
   "nbconvert_exporter": "python",
   "pygments_lexer": "ipython3",
   "version": "3.11.3"
  }
 },
 "nbformat": 4,
 "nbformat_minor": 5
}
