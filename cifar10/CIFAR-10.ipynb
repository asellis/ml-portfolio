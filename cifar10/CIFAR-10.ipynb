{
 "cells": [
  {
   "cell_type": "markdown",
   "id": "bda6af12",
   "metadata": {},
   "source": [
    "# Overview"
   ]
  },
  {
   "cell_type": "markdown",
   "id": "7ed2ee19",
   "metadata": {},
   "source": [
    "This notebook trains on the CIFAR-10 dataset, a collection of 32x32 images divided into 10 classes:\n",
    "- Aircraft\n",
    "- Birds\n",
    "- Cats\n",
    "- Dogs\n",
    "- Flowers\n",
    "- Fish\n",
    "- Fruits\n",
    "- Cars\n",
    "- Trucks\n",
    "- Ships\n",
    "\n",
    "The goal is to correctly classify an image with one of the above features."
   ]
  },
  {
   "cell_type": "markdown",
   "id": "eefc3932",
   "metadata": {},
   "source": [
    "## General Imports"
   ]
  },
  {
   "cell_type": "code",
   "execution_count": 1,
   "id": "83eb1f41",
   "metadata": {},
   "outputs": [],
   "source": [
    "import matplotlib.pyplot as plt\n",
    "import numpy as np\n",
    "import torch\n",
    "import random"
   ]
  },
  {
   "cell_type": "code",
   "execution_count": 2,
   "id": "7ff5bd33",
   "metadata": {},
   "outputs": [],
   "source": [
    "# Set a seed so that results can be reproduced\n",
    "def set_seed(seed=42):\n",
    "    random.seed(seed)\n",
    "    np.random.seed(seed)\n",
    "    torch.manual_seed(seed)               # PyTorch CPU\n",
    "    torch.cuda.manual_seed(seed)          # PyTorch GPU\n",
    "    torch.backends.cudnn.deterministic = True\n",
    "    torch.backends.cudnn.benchmark = False"
   ]
  },
  {
   "cell_type": "markdown",
   "id": "b8d02a26",
   "metadata": {},
   "source": [
    "# Dataset"
   ]
  },
  {
   "cell_type": "code",
   "execution_count": 3,
   "id": "e2690877",
   "metadata": {},
   "outputs": [],
   "source": [
    "# We can download the dataset through torchvision\n",
    "import torch\n",
    "import torchvision\n",
    "import torchvision.transforms as transforms\n",
    "from torch.utils.data import random_split"
   ]
  },
  {
   "cell_type": "markdown",
   "id": "3ee0d13c",
   "metadata": {},
   "source": [
    "When we use torchvision to download the dataset it will create a Pytorch Dataset object.\n",
    "This dataset object is used to pull samples.\n",
    "It can also apply transforms (i.e. image augmentation) during the pulling process.\n",
    "\n",
    "We want to apply transforms to these images as it will provide some variability in our training data and help to avoid overfitting."
   ]
  },
  {
   "cell_type": "code",
   "execution_count": 4,
   "id": "0f860408",
   "metadata": {},
   "outputs": [],
   "source": [
    "# Define our image augmentation\n",
    "img_augmentation = transforms.Compose([\n",
    "    transforms.RandomHorizontalFlip(),       # Flip image horizontally with 50% chance\n",
    "    transforms.RandomCrop(32, padding=4),    # Random crop with padding\n",
    "    transforms.ColorJitter(brightness=0.2, contrast=0.2, saturation=0.2),  # Random color changes\n",
    "    transforms.ToTensor(),\n",
    "])"
   ]
  },
  {
   "cell_type": "code",
   "execution_count": 5,
   "id": "fdb3d716",
   "metadata": {},
   "outputs": [
    {
     "name": "stdout",
     "output_type": "stream",
     "text": [
      "Files already downloaded and verified\n"
     ]
    }
   ],
   "source": [
    "train_pct = 0.8\n",
    "\n",
    "complete_train_data = torchvision.datasets.CIFAR10(root='./data', train=True,\n",
    "                                        download=True, transform=img_augmentation)\n",
    "\n",
    "# Split into train/validation split\n",
    "train_size = int(train_pct * len(complete_train_data))\n",
    "val_size = len(complete_train_data) - train_size\n",
    "\n",
    "# Split the dataset\n",
    "train_subset, val_subset = random_split(complete_train_data, [train_size, val_size])"
   ]
  },
  {
   "cell_type": "code",
   "execution_count": null,
   "id": "fc135bd5",
   "metadata": {},
   "outputs": [],
   "source": [
    "def show_unaugmented_image(index=0):\n",
    "    # Load CIFAR-10 without any transforms\n",
    "    dataset = torchvision.datasets.CIFAR10(root='./data', train=True, download=False)\n",
    "\n",
    "    # Get image and label\n",
    "    image, label = dataset[index]\n",
    "\n",
    "    # Convert PIL image to numpy array for plotting\n",
    "    image_np = np.array(image)\n",
    "\n",
    "    # Plot the image\n",
    "    plt.imshow(image_np)\n",
    "    plt.title(f\"Label: {dataset.classes[label]}\")\n",
    "    plt.axis('off')\n",
    "    plt.show()\n",
    "\n",
    "def show_augmented_image(index=0):\n",
    "    # Load CIFAR-10 with transforms\n",
    "    dataset = torchvision.datasets.CIFAR10(root='./data', train=True, download=False, transform=img_augmentation)\n",
    "\n",
    "    # Get image and label\n",
    "    image, label = dataset[index]  # image is now a tensor\n",
    "\n",
    "    # Convert tensor to numpy array and rearrange dimensions\n",
    "    image_np = image.permute(1, 2, 0).numpy()\n",
    "\n",
    "    # Clip values to [0, 1] for display\n",
    "    image_np = np.clip(image_np, 0, 1)\n",
    "\n",
    "    # Plot the image\n",
    "    plt.imshow(image_np)\n",
    "    plt.title(f\"Label: {dataset.classes[label]}\")\n",
    "    plt.axis('off')\n",
    "    plt.show()"
   ]
  },
  {
   "cell_type": "code",
   "execution_count": 7,
   "id": "afe22c16",
   "metadata": {},
   "outputs": [],
   "source": [
    "img_index = 0"
   ]
  },
  {
   "cell_type": "code",
   "execution_count": 8,
   "id": "fce6f876",
   "metadata": {},
   "outputs": [
    {
     "data": {
      "image/png": "[encoded data removed]",
      "text/plain": [
       "<Figure size 640x480 with 1 Axes>"
      ]
     },
     "metadata": {},
     "output_type": "display_data"
    }
   ],
   "source": [
    "show_unaugmented_image(img_index)"
   ]
  },
  {
   "cell_type": "code",
   "execution_count": 9,
   "id": "fc83d448",
   "metadata": {},
   "outputs": [
    {
     "data": {
      "image/png": "[encoded data removed]",
      "text/plain": [
       "<Figure size 640x480 with 1 Axes>"
      ]
     },
     "metadata": {},
     "output_type": "display_data"
    }
   ],
   "source": [
    "show_augmented_image(img_index)"
   ]
  },
  {
   "cell_type": "code",
   "execution_count": 10,
   "id": "0b829594",
   "metadata": {},
   "outputs": [],
   "source": [
    "from pathlib import Path\n",
    "\n",
    "import numpy as np\n",
    "import matplotlib.pyplot as plt\n",
    "\n",
    "import torch\n",
    "from torch.utils.data import DataLoader, TensorDataset, random_split\n",
    "import torch.nn as nn\n",
    "import torch.nn.functional as F\n",
    "import torch.optim as optim\n",
    "\n",
    "from PIL import Image\n",
    "\n",
    "import torchvision\n",
    "import torchvision.transforms as transforms\n",
    "\n",
    "from IPython.display import display"
   ]
  },
  {
   "cell_type": "markdown",
   "id": "ac2dee53",
   "metadata": {},
   "source": [
    "# Neural Net"
   ]
  },
  {
   "cell_type": "code",
   "execution_count": 11,
   "id": "4cda19c8",
   "metadata": {},
   "outputs": [],
   "source": [
    "from VGGNet import VGGNet"
   ]
  },
  {
   "cell_type": "code",
   "execution_count": 12,
   "id": "61ec570c",
   "metadata": {},
   "outputs": [],
   "source": [
    "# Setting the model to a variable in case we want to use/implement a different model\n",
    "model_cnn = VGGNet"
   ]
  },
  {
   "cell_type": "markdown",
   "id": "bb817502",
   "metadata": {},
   "source": [
    "# Train"
   ]
  },
  {
   "cell_type": "code",
   "execution_count": 13,
   "id": "bba55cbe",
   "metadata": {},
   "outputs": [],
   "source": [
    "device = torch.device(\"cuda\" if torch.cuda.is_available() else \"cpu\")"
   ]
  },
  {
   "cell_type": "code",
   "execution_count": 14,
   "id": "e15dba24",
   "metadata": {},
   "outputs": [],
   "source": [
    "# Parameters\n",
    "batch_size = 32\n",
    "epochs = 20"
   ]
  },
  {
   "cell_type": "code",
   "execution_count": 15,
   "id": "2cef4f4e",
   "metadata": {},
   "outputs": [],
   "source": [
    "# Create DataLoaders\n",
    "train_loader = torch.utils.data.DataLoader(train_subset, batch_size=batch_size, shuffle=True)\n",
    "valid_loader = torch.utils.data.DataLoader(val_subset, batch_size=batch_size, shuffle=False)"
   ]
  },
  {
   "cell_type": "code",
   "execution_count": 16,
   "id": "3970bb61",
   "metadata": {},
   "outputs": [
    {
     "data": {
      "text/plain": [
       "VGGNet(\n",
       "  (layers): Sequential(\n",
       "    (0): Conv2d(3, 64, kernel_size=(3, 3), stride=(1, 1), padding=(1, 1))\n",
       "    (1): ReLU(inplace=True)\n",
       "    (2): Conv2d(64, 64, kernel_size=(3, 3), stride=(1, 1), padding=(1, 1))\n",
       "    (3): ReLU(inplace=True)\n",
       "    (4): MaxPool2d(kernel_size=2, stride=2, padding=0, dilation=1, ceil_mode=False)\n",
       "    (5): Conv2d(64, 128, kernel_size=(3, 3), stride=(1, 1), padding=(1, 1))\n",
       "    (6): ReLU(inplace=True)\n",
       "    (7): Conv2d(128, 128, kernel_size=(3, 3), stride=(1, 1), padding=(1, 1))\n",
       "    (8): ReLU(inplace=True)\n",
       "    (9): MaxPool2d(kernel_size=2, stride=2, padding=0, dilation=1, ceil_mode=False)\n",
       "    (10): Conv2d(128, 256, kernel_size=(3, 3), stride=(1, 1), padding=(1, 1))\n",
       "    (11): ReLU(inplace=True)\n",
       "    (12): Conv2d(256, 256, kernel_size=(3, 3), stride=(1, 1), padding=(1, 1))\n",
       "    (13): ReLU(inplace=True)\n",
       "    (14): MaxPool2d(kernel_size=2, stride=2, padding=0, dilation=1, ceil_mode=False)\n",
       "  )\n",
       "  (classifier): Sequential(\n",
       "    (0): Linear(in_features=4096, out_features=512, bias=True)\n",
       "    (1): ReLU(inplace=True)\n",
       "    (2): Dropout(p=0.5, inplace=False)\n",
       "    (3): Linear(in_features=512, out_features=10, bias=True)\n",
       "  )\n",
       ")"
      ]
     },
     "execution_count": 16,
     "metadata": {},
     "output_type": "execute_result"
    }
   ],
   "source": [
    "model = model_cnn(input_size = complete_train_data[0][0].size(), output_size = len(complete_train_data.classes))\n",
    "model.to(device)"
   ]
  },
  {
   "cell_type": "code",
   "execution_count": 17,
   "id": "43178c16",
   "metadata": {},
   "outputs": [],
   "source": [
    "criterion = nn.CrossEntropyLoss()\n",
    "optimizer = optim.Adam(model.parameters(), lr=0.001)"
   ]
  },
  {
   "cell_type": "code",
   "execution_count": 18,
   "id": "54d59b57",
   "metadata": {
    "scrolled": true
   },
   "outputs": [
    {
     "name": "stdout",
     "output_type": "stream",
     "text": [
      "Epoch 1:\n",
      "\tTrain Loss = 2.0521\n",
      "\tValid Loss = 1.7912\n",
      "\tAccuracy: 0.3355\n",
      "Epoch 2:\n",
      "\tTrain Loss = 1.6986\n",
      "\tValid Loss = 1.5647\n",
      "\tAccuracy: 0.4195\n",
      "Epoch 3:\n",
      "\tTrain Loss = 1.4930\n",
      "\tValid Loss = 1.3713\n",
      "\tAccuracy: 0.4939\n",
      "Epoch 4:\n",
      "\tTrain Loss = 1.3536\n",
      "\tValid Loss = 1.3120\n",
      "\tAccuracy: 0.5243\n",
      "Epoch 5:\n",
      "\tTrain Loss = 1.2736\n",
      "\tValid Loss = 1.2077\n",
      "\tAccuracy: 0.5608\n",
      "Epoch 6:\n",
      "\tTrain Loss = 1.2032\n",
      "\tValid Loss = 1.1370\n",
      "\tAccuracy: 0.5903\n",
      "Epoch 7:\n",
      "\tTrain Loss = 1.1469\n",
      "\tValid Loss = 1.0958\n",
      "\tAccuracy: 0.609\n",
      "Epoch 8:\n",
      "\tTrain Loss = 1.0928\n",
      "\tValid Loss = 1.0279\n",
      "\tAccuracy: 0.6367\n",
      "Epoch 9:\n",
      "\tTrain Loss = 1.0559\n",
      "\tValid Loss = 1.0198\n",
      "\tAccuracy: 0.6406\n",
      "Epoch 10:\n",
      "\tTrain Loss = 1.0177\n",
      "\tValid Loss = 0.9921\n",
      "\tAccuracy: 0.649\n",
      "Epoch 11:\n",
      "\tTrain Loss = 0.9903\n",
      "\tValid Loss = 0.9721\n",
      "\tAccuracy: 0.6599\n",
      "Epoch 12:\n",
      "\tTrain Loss = 0.9606\n",
      "\tValid Loss = 0.9497\n",
      "\tAccuracy: 0.6694\n",
      "Epoch 13:\n",
      "\tTrain Loss = 0.9425\n",
      "\tValid Loss = 0.9124\n",
      "\tAccuracy: 0.6783\n",
      "Epoch 14:\n",
      "\tTrain Loss = 0.9242\n",
      "\tValid Loss = 0.9270\n",
      "\tAccuracy: 0.6722\n",
      "Epoch 15:\n",
      "\tTrain Loss = 0.9091\n",
      "\tValid Loss = 0.9368\n",
      "\tAccuracy: 0.6791\n",
      "Epoch 16:\n",
      "\tTrain Loss = 0.8876\n",
      "\tValid Loss = 0.8701\n",
      "\tAccuracy: 0.6939\n",
      "Epoch 17:\n",
      "\tTrain Loss = 0.8668\n",
      "\tValid Loss = 0.8679\n",
      "\tAccuracy: 0.6943\n",
      "Epoch 18:\n",
      "\tTrain Loss = 0.8601\n",
      "\tValid Loss = 0.8413\n",
      "\tAccuracy: 0.7107\n",
      "Epoch 19:\n",
      "\tTrain Loss = 0.8436\n",
      "\tValid Loss = 0.8194\n",
      "\tAccuracy: 0.7175\n",
      "Epoch 20:\n",
      "\tTrain Loss = 0.8332\n",
      "\tValid Loss = 0.8439\n",
      "\tAccuracy: 0.7085\n"
     ]
    }
   ],
   "source": [
    "train_losses = []\n",
    "valid_losses = []\n",
    "for epoch in range(epochs):\n",
    "    model.train()\n",
    "    train_loss = 0\n",
    "    for images, labels in train_loader:\n",
    "        images = images.float().to(device)\n",
    "        labels = labels.to(device)\n",
    "        optimizer.zero_grad()\n",
    "        outputs = model(images)\n",
    "        loss = criterion(outputs, labels)\n",
    "        loss.backward()\n",
    "        optimizer.step()\n",
    "        train_loss += loss.item()\n",
    "        \n",
    "    train_losses.append(train_loss/len(train_loader))\n",
    "    \n",
    "    model.eval()\n",
    "    valid_loss = 0\n",
    "    correct = 0\n",
    "    with torch.no_grad():\n",
    "        for images, labels in valid_loader:\n",
    "            images = images.float().to(device)\n",
    "            labels = labels.to(device)\n",
    "            optimizer.zero_grad()\n",
    "            outputs = model(images)\n",
    "            loss = criterion(outputs, labels)\n",
    "            valid_loss += loss.item()\n",
    "            \n",
    "            # Compute predictions\n",
    "            _, predicted = torch.max(outputs, 1)\n",
    "            correct += (predicted == labels).sum().item()\n",
    "        \n",
    "    valid_losses.append(valid_loss/len(valid_loader))\n",
    "    \n",
    "    val_acc = correct/len(valid_loader.dataset)\n",
    "    \n",
    "    print(f\"Epoch {epoch + 1}:\\n\\tTrain Loss = {train_losses[-1]:.4f}\\n\\tValid Loss = {valid_losses[-1]:.4f}\")\n",
    "    print(f\"\\tAccuracy: {val_acc}\")"
   ]
  },
  {
   "cell_type": "code",
   "execution_count": 19,
   "id": "52221e53",
   "metadata": {},
   "outputs": [
    {
     "data": {
      "image/png": "[encoded data removed]",
      "text/plain": [
       "<Figure size 640x480 with 1 Axes>"
      ]
     },
     "metadata": {},
     "output_type": "display_data"
    }
   ],
   "source": [
    "plt.title(model.__class__.__name__)\n",
    "plt.plot(train_losses, color='blue', label='Training Loss')\n",
    "plt.plot(valid_losses, color='red', label='Validation Loss')\n",
    "plt.xlabel('Epoch')\n",
    "plt.ylabel('Loss')\n",
    "plt.legend()\n",
    "plt.show()"
   ]
  },
  {
   "cell_type": "code",
   "execution_count": null,
   "id": "3b83bc23",
   "metadata": {},
   "outputs": [],
   "source": []
  }
 ],
 "metadata": {
  "kernelspec": {
   "display_name": "Python 3",
   "language": "python",
   "name": "python3"
  },
  "language_info": {
   "codemirror_mode": {
    "name": "ipython",
    "version": 3
   },
   "file_extension": ".py",
   "mimetype": "text/x-python",
   "name": "python",
   "nbconvert_exporter": "python",
   "pygments_lexer": "ipython3",
   "version": "3.11.3"
  }
 },
 "nbformat": 4,
 "nbformat_minor": 5
}
